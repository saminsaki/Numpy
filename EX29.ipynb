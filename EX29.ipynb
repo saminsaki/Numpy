{
 "cells": [
  {
   "cell_type": "markdown",
   "id": "897cefa3-6911-4fda-bf8b-609e1bae245a",
   "metadata": {},
   "source": [
    "## Question 1:\n",
    "<h5>Create a 2D NumPy array with dimensions 5x5, filled with integers from 1 to 25.</h5>\n",
    "<h5>Use slicing to:</h5>\n",
    "<h6>1. Extract and display the third row of the array.</h6>\n",
    "<h6>2. Extract and display the second column of the array.</h6>y."
   ]
  },
  {
   "cell_type": "code",
   "execution_count": 2,
   "id": "65711e9b-4f73-4101-ab1a-6647dac2327c",
   "metadata": {},
   "outputs": [
    {
     "name": "stdout",
     "output_type": "stream",
     "text": [
      "[[ 1  2  3  4  5]\n",
      " [ 6  7  8  9 10]\n",
      " [11 12 13 14 15]\n",
      " [16 17 18 19 20]\n",
      " [21 22 23 24 25]]\n"
     ]
    }
   ],
   "source": [
    "import numpy as np\n",
    "b = np.arange(1, 26).reshape(5,5)\n",
    "print(b)"
   ]
  },
  {
   "cell_type": "code",
   "execution_count": 4,
   "id": "bfa25390-b60d-459b-babc-9b6eb70d3ccd",
   "metadata": {},
   "outputs": [
    {
     "data": {
      "text/plain": [
       "array([11, 12, 13, 14, 15])"
      ]
     },
     "execution_count": 4,
     "metadata": {},
     "output_type": "execute_result"
    }
   ],
   "source": [
    "b[2,:]"
   ]
  },
  {
   "cell_type": "code",
   "execution_count": 4,
   "id": "bf020d26-2fc2-4748-b589-2f05e6a02e8c",
   "metadata": {},
   "outputs": [
    {
     "data": {
      "text/plain": [
       "array([ 2,  7, 12, 17, 22])"
      ]
     },
     "execution_count": 4,
     "metadata": {},
     "output_type": "execute_result"
    }
   ],
   "source": [
    "b[:,1]"
   ]
  },
  {
   "cell_type": "markdown",
   "id": "c58fd4ca-e856-454b-a86c-fc68511654b9",
   "metadata": {},
   "source": [
    "## Question 2:\n",
    "<h5>Create a 2D NumPy array with dimensions 3x4, filled with any integers of your\n",
    "choice Access and print the element at the second row and third colun.</h5>.\n"
   ]
  },
  {
   "cell_type": "code",
   "execution_count": 9,
   "id": "6b1c20b1-dd9d-426d-a337-4fee4ab8e512",
   "metadata": {},
   "outputs": [
    {
     "data": {
      "text/plain": [
       "array([[ 1,  2,  3,  4],\n",
       "       [ 5,  6,  7,  8],\n",
       "       [ 9, 10, 11, 12]])"
      ]
     },
     "execution_count": 9,
     "metadata": {},
     "output_type": "execute_result"
    }
   ],
   "source": [
    "a = np.arange(1, 13).reshape(3,4)\n",
    "a"
   ]
  },
  {
   "cell_type": "code",
   "execution_count": 12,
   "id": "f83bd3ad-145e-4e81-8889-65ec6e9818e9",
   "metadata": {},
   "outputs": [
    {
     "data": {
      "text/plain": [
       "7"
      ]
     },
     "execution_count": 12,
     "metadata": {},
     "output_type": "execute_result"
    }
   ],
   "source": [
    "a[1,2]"
   ]
  },
  {
   "cell_type": "markdown",
   "id": "324fadbb-971a-4816-a646-c031221ba462",
   "metadata": {},
   "source": [
    "## Question 3:\n",
    "<h5>Create two NumPy arrays of the same size with random integers. Calculate their\n",
    "element-wise sum and then display elements from new arrays wherever the sum is\n",
    "greater than 50.\n",
    "</h5>"
   ]
  },
  {
   "cell_type": "code",
   "execution_count": 19,
   "id": "230735d7-6d2c-4e23-a02b-cd2d933994eb",
   "metadata": {},
   "outputs": [],
   "source": [
    "arr1 = np.random.randint(1,50, size=(4,4))\n",
    "arr2 = np.random.randint(1,50, size=(4,4))\n",
    "\n",
    "sum_array = arr1 + arr2\n",
    "result_index = np.where(sum_array > 50)\n",
    "result_val = sum_array[result_index]"
   ]
  },
  {
   "cell_type": "code",
   "execution_count": 20,
   "id": "18de1f7d-5275-4fc5-a58e-d46823fcd15f",
   "metadata": {},
   "outputs": [
    {
     "name": "stdout",
     "output_type": "stream",
     "text": [
      "Array 1:\n",
      "[[ 2  8 38 28]\n",
      " [ 8 22 37  8]\n",
      " [ 1 26 41 31]\n",
      " [28  7  7 32]]\n",
      "\n",
      "Array 2:\n",
      "[[16  8 34  1]\n",
      " [37 23 47 30]\n",
      " [22 47 46  4]\n",
      " [15  1 48 18]]\n",
      "\n",
      "Element-wise sum:\n",
      "[[18 16 72 29]\n",
      " [45 45 84 38]\n",
      " [23 73 87 35]\n",
      " [43  8 55 50]]\n",
      "\n",
      "Elements where sum is greater than 50:\n",
      "[72 84 73 87 55]\n"
     ]
    }
   ],
   "source": [
    "print(\"Array 1:\")\n",
    "print(arr1)\n",
    "print(\"\\nArray 2:\")\n",
    "print(arr2)\n",
    "print(\"\\nElement-wise sum:\")\n",
    "print(sum_array)\n",
    "print(\"\\nElements where sum is greater than 50:\")\n",
    "print(result_val)"
   ]
  },
  {
   "cell_type": "code",
   "execution_count": null,
   "id": "39be0aba-c631-4786-8341-6a7b1c9afbd2",
   "metadata": {},
   "outputs": [],
   "source": []
  }
 ],
 "metadata": {
  "kernelspec": {
   "display_name": "Python 3 (ipykernel)",
   "language": "python",
   "name": "python3"
  },
  "language_info": {
   "codemirror_mode": {
    "name": "ipython",
    "version": 3
   },
   "file_extension": ".py",
   "mimetype": "text/x-python",
   "name": "python",
   "nbconvert_exporter": "python",
   "pygments_lexer": "ipython3",
   "version": "3.11.5"
  }
 },
 "nbformat": 4,
 "nbformat_minor": 5
}
